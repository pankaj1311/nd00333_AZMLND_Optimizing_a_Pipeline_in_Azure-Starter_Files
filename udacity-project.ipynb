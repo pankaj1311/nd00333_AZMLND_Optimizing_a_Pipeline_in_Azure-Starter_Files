{
 "cells": [
  {
   "cell_type": "code",
   "execution_count": null,
   "source": [
    "from azureml.core import Workspace, Experiment\r\n",
    "\r\n",
    "ws = Workspace.get(name=\"udacity-project\")\r\n",
    "exp = Experiment(workspace=ws, name=\"udacity-project\")\r\n",
    "\r\n",
    "print('Workspace name: ' + ws.name, \r\n",
    "      'Azure region: ' + ws.location, \r\n",
    "      'Subscription id: ' + ws.subscription_id, \r\n",
    "      'Resource group: ' + ws.resource_group, sep = '\\n')\r\n",
    "\r\n",
    "run = exp.start_logging()"
   ],
   "outputs": [],
   "metadata": {
    "gather": {
     "logged": 1598275788035
    }
   }
  },
  {
   "cell_type": "code",
   "execution_count": null,
   "source": [
    "from azureml.core.compute import ComputeTarget, AmlCompute\r\n",
    "from azureml.core.compute import ComputeTargetException\r\n",
    "import os\r\n",
    "# TODO: Create compute cluster\r\n",
    "# Use vm_size = \"Standard_D2_V2\" in your provisioning configuration.\r\n",
    "# max_nodes should be no greater than 4.\r\n",
    "\r\n",
    "### YOUR CODE HERE ###\r\n",
    "cluster_name = os.environ.get('AML_COMPUTE_CLUSTER_NAME','test-cluster')\r\n",
    "compute_min_nodes = os.environ.get('AML_COMPUTE_MIN_NODES',0)\r\n",
    "compute_max_nodes = os.environ.get('AML_COMPUTE_MAX_NODES',4)\r\n",
    "vm_size = os.environ.get('AML_COMPUTE_CLUSTER_SKU','STANDARD_D2_V2')\r\n",
    "\r\n",
    "# Check if cluster exists already\r\n",
    "try:\r\n",
    "    compute_target = ComputeTarget(workspace = ws, name = cluster_name)\r\n",
    "    print('Found existing compute cluster, just  it')\r\n",
    "except ComputeTargetException:\r\n",
    "    compute_config = AmlCompute.provisioning_configuration(vm_size = vm_size,\r\n",
    "                                                           min_nodes = compute_min_nodes,\r\n",
    "                                                           max_nodes = compute_max_nodes)\r\n",
    "    \r\n",
    "    compute_target = ComputeTarget.create(ws, cluster_name, compute_config)\r\n",
    "    \r\n",
    "    compute_target.wait_for_completion(show_output = True)"
   ],
   "outputs": [],
   "metadata": {
    "gather": {
     "logged": 1598275788675
    },
    "jupyter": {
     "outputs_hidden": false,
     "source_hidden": false
    },
    "nteract": {
     "transient": {
      "deleting": false
     }
    }
   }
  },
  {
   "cell_type": "code",
   "execution_count": null,
   "source": [
    "from azureml.widgets import RunDetails\r\n",
    "from azureml.train.sklearn import SKLearn\r\n",
    "from azureml.train.hyperdrive.run import PrimaryMetricGoal, HyperDriveRun\r\n",
    "from azureml.train.hyperdrive.policy import BanditPolicy\r\n",
    "from azureml.train.hyperdrive.sampling import RandomParameterSampling\r\n",
    "from azureml.train.hyperdrive.runconfig import HyperDriveConfig\r\n",
    "from azureml.train.hyperdrive.parameter_expressions import uniform\r\n",
    "import os\r\n",
    "\r\n",
    "# Specify parameter sampler\r\n",
    "ps = RandomParameterSampling(\r\n",
    "    {\r\n",
    "        \"--kernel\": choice('linear', 'rbf', 'poly', 'sigmoid'),\r\n",
    "        \"--penalty\": choice(0.5, 1, 1.5)\r\n",
    "    }\r\n",
    ")\r\n",
    "\r\n",
    "# Specify a Policy\r\n",
    "policy = BanditPolicy(evaluation_interval = 2, slack_factor = 0.1)\r\n",
    "\r\n",
    "if \"training\" not in os.listdir():\r\n",
    "    os.mkdir(\"./training\")\r\n",
    "\r\n",
    "# Create a SKLearn estimator for use with train.py\r\n",
    "est = SKLearn(source_directory = './',\r\n",
    "              compute_target = compute_target,\r\n",
    "              entry_script = 'train.py',\r\n",
    "              )\r\n",
    "\r\n",
    "# Create a HyperDriveConfig using the estimator, hyperparameter sampler, and policy.\r\n",
    "hyperdrive_config = HyperDriveConfig(estimator=est,\r\n",
    "                                     hyperparameter_sampling = ps,\r\n",
    "                                     policy = policy,\r\n",
    "                                     primary_metric_name = 'Accuracy',\r\n",
    "                                     primary_metric_goal = PrimaryMetricGoal.Maximize,\r\n",
    "                                     max_total_runs = 20,\r\n",
    "                                     max_concurrent_runs = 4)"
   ],
   "outputs": [],
   "metadata": {
    "gather": {
     "logged": 1598275789986
    },
    "jupyter": {
     "outputs_hidden": false,
     "source_hidden": false
    },
    "nteract": {
     "transient": {
      "deleting": false
     }
    }
   }
  },
  {
   "cell_type": "code",
   "execution_count": null,
   "source": [
    "# Submit your hyperdrive run to the experiment and show run details with the widget.\r\n",
    "\r\n",
    "### YOUR CODE HERE ###\r\n",
    "hyperdrive_exp = exp.submit(config = hyperdrive_config)\r\n",
    "\r\n",
    "RunDetails(hyperdrive_exp).show()\r\n",
    "\r\n",
    "hyperdrive_exp.wait_for_completion(show_output = True)"
   ],
   "outputs": [],
   "metadata": {}
  },
  {
   "cell_type": "code",
   "execution_count": null,
   "source": [
    "# Get your best run and save the model from that run.\r\n",
    "# Once all of the hyperparameter tuning runs have completed, identify the best performing configuration and hyperparameter values:\r\n",
    "\r\n",
    "## Find and return the Run instance that corresponds to the best performing run amongst all child runs.\r\n",
    "best_run = hyperdrive_exp.get_best_run_by_primary_metric()\r\n",
    "\r\n",
    "## Return the metrics from all the runs that were launched by this HyperDriveRun.\r\n",
    "best_run_metrics = best_run.get_metrics()\r\n",
    "\r\n",
    "## Returns a dictionary with details for the run\r\n",
    "parameter_values = best_run.get_details()['runDefinition']['arguments']\r\n",
    "\r\n",
    "print('Best Run Id: ', best_run.id)\r\n",
    "print('\\n Accuracy:', best_run_metrics['accuracy'])\r\n",
    "print('\\n learning rate:',parameter_values[3])\r\n",
    "print('\\n keep probability:',parameter_values[5])\r\n",
    "print('\\n batch size:',parameter_values[7])\r\n",
    "\r\n",
    "\r\n",
    "### Saving the best model ###\r\n",
    "import joblib\r\n",
    "joblib.dump(best_run, 'hyperd_bank_mkt_sklearn.joblib')\r\n",
    "#model = best_run.register_model(model_name='hyperd_bank_mkt_sklearn', model_path='outputs/hyperd_bank_mkt_sklearn.joblib')"
   ],
   "outputs": [],
   "metadata": {
    "gather": {
     "logged": 1598276310862
    },
    "jupyter": {
     "outputs_hidden": false,
     "source_hidden": false
    },
    "nteract": {
     "transient": {
      "deleting": false
     }
    }
   }
  },
  {
   "cell_type": "code",
   "execution_count": null,
   "source": [
    "from azureml.data.dataset_factory import TabularDatasetFactory\r\n",
    "\r\n",
    "# Create TabularDataset using TabularDatasetFactory\r\n",
    "# Data is available at: \r\n",
    "# \"https://automlsamplenotebookdata.blob.core.windows.net/automl-sample-notebook-data/bankmarketing_train.csv\"\r\n",
    "\r\n",
    "ds = TabularDatasetFactory.from_delimited_files(['https://automlsamplenotebookdata.blob.core.windows.net/automl-sample-notebook-data/bankmarketing_train.csv'])"
   ],
   "outputs": [],
   "metadata": {}
  },
  {
   "cell_type": "code",
   "execution_count": null,
   "source": [
    "from train import clean_data\r\n",
    "\r\n",
    "# Use the clean_data function to clean your data.\r\n",
    "x, y = clean_data(ds)"
   ],
   "outputs": [],
   "metadata": {
    "gather": {
     "logged": 1598275726969
    },
    "jupyter": {
     "outputs_hidden": false,
     "source_hidden": false
    },
    "nteract": {
     "transient": {
      "deleting": false
     }
    }
   }
  },
  {
   "cell_type": "code",
   "execution_count": null,
   "source": [
    "from azureml.train.automl import AutoMLConfig\r\n",
    "\r\n",
    "# Set parameters for AutoMLConfig\r\n",
    "# NOTE: DO NOT CHANGE THE experiment_timeout_minutes PARAMETER OR YOUR INSTANCE WILL TIME OUT.\r\n",
    "# If you wish to run the experiment longer, you will need to run this notebook in your own\r\n",
    "# Azure tenant, which will incur personal costs.\r\n",
    "automl_config = AutoMLConfig(\r\n",
    "    experiment_timeout_minutes=30,\r\n",
    "    task=\"classification\",\r\n",
    "    primary_metric='Accuracy',\r\n",
    "    training_data=ds,\r\n",
    "    label_column_name=y,\r\n",
    "    n_cross_validations=2)"
   ],
   "outputs": [],
   "metadata": {
    "gather": {
     "logged": 1598275665403
    },
    "jupyter": {
     "outputs_hidden": false,
     "source_hidden": false
    },
    "nteract": {
     "transient": {
      "deleting": false
     }
    }
   }
  },
  {
   "cell_type": "code",
   "execution_count": 2,
   "source": [
    "# Submit your automl run\r\n",
    "\r\n",
    "### YOUR CODE HERE ###\r\n",
    "automl_run = exp.submit(automl_config, show_output = False)\r\n",
    "automl_run.wait_for_completion()"
   ],
   "outputs": [],
   "metadata": {
    "jupyter": {
     "outputs_hidden": false,
     "source_hidden": false
    },
    "nteract": {
     "transient": {
      "deleting": false
     }
    }
   }
  },
  {
   "cell_type": "code",
   "execution_count": null,
   "source": [
    "# Retrieve and save your best automl model.\r\n",
    "\r\n",
    "### YOUR CODE HERE ###\r\n",
    "## Below we select the best pipeline from our iterations. \r\n",
    "# The get_output method returns the best run and the fitted model. \r\n",
    "# Overloads on get_output allow you to retrieve the best run and fitted model \r\n",
    "# for any logged metric or for a particular iteration.\r\n",
    "best_run, fitted_model = automl_run.get_output()\r\n",
    "model_name = best_run.properties['model_name']\r\n",
    "\r\n",
    "description = 'AutoML Model trained on bank marketing data to predict if a client will subscribe to a term deposit'\r\n",
    "tags = None\r\n",
    "model = automl_run.register_model(model_name = model_name, description = description, tags = tags)\r\n"
   ],
   "outputs": [],
   "metadata": {}
  },
  {
   "cell_type": "code",
   "execution_count": null,
   "source": [
    "cpu_cluster.delete()"
   ],
   "outputs": [],
   "metadata": {}
  }
 ],
 "metadata": {
  "kernel_info": {
   "name": "python3-azureml"
  },
  "kernelspec": {
   "display_name": "Python 3",
   "language": "python",
   "name": "python3"
  },
  "language_info": {
   "codemirror_mode": {
    "name": "ipython",
    "version": 3
   },
   "file_extension": ".py",
   "mimetype": "text/x-python",
   "name": "python",
   "nbconvert_exporter": "python",
   "pygments_lexer": "ipython3",
   "version": "3.7.4"
  },
  "nteract": {
   "version": "nteract-front-end@1.0.0"
  }
 },
 "nbformat": 4,
 "nbformat_minor": 2
}